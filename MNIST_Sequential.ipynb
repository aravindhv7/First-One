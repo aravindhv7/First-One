{
  "nbformat": 4,
  "nbformat_minor": 0,
  "metadata": {
    "colab": {
      "name": "MNIST_Sequential.ipynb",
      "provenance": [],
      "collapsed_sections": [],
      "include_colab_link": true
    },
    "kernelspec": {
      "name": "python3",
      "display_name": "Python 3",
      "language": "python"
    },
    "accelerator": "GPU",
    "language_info": {
      "mimetype": "text/x-python",
      "nbconvert_exporter": "python",
      "name": "python",
      "file_extension": ".py",
      "version": "3.5.4",
      "pygments_lexer": "ipython3",
      "codemirror_mode": {
        "version": 3,
        "name": "ipython"
      }
    }
  },
  "cells": [
    {
      "cell_type": "markdown",
      "metadata": {
        "id": "view-in-github",
        "colab_type": "text"
      },
      "source": [
        "<a href=\"https://colab.research.google.com/github/aravindhv7/First-One/blob/master/MNIST_Sequential.ipynb\" target=\"_parent\"><img src=\"https://colab.research.google.com/assets/colab-badge.svg\" alt=\"Open In Colab\"/></a>"
      ]
    },
    {
      "cell_type": "markdown",
      "metadata": {
        "id": "3ONlZ4Vu_6s9",
        "colab_type": "text"
      },
      "source": [
        "<p><h2><b><font color = 'Blue'> MNIST Case Study </font></b></h2></p>"
      ]
    },
    {
      "cell_type": "markdown",
      "metadata": {
        "id": "9ZlNxpfi_6tG",
        "colab_type": "text"
      },
      "source": [
        "The MNIST problem is a dataset developed by Yann LeCun, Corinna Cortes and Christopher Burges for evaluating machine learning models on the handwritten digit classification problem.\n",
        "\n",
        "The dataset was constructed from a number of scanned document dataset available from the National Institute of Standards and Technology (NIST). This is where the name for the dataset comes from, as the Modified NIST or MNIST dataset.\n",
        "\n",
        "Images of digits were taken from a variety of scanned documents, normalized in size and centered. This makes it an excellent dataset for evaluating models, allowing the developer to focus on the machine learning with very little data cleaning or preparation required.\n",
        "\n",
        "Each image is a 28 by 28 pixel square (784 pixels total). A standard split of the dataset is used to evaluate and compare models, where 60,000 images are used to train a model and a separate set of 10,000 images are used to test it.\n",
        "\n",
        "It is a digit recognition task. As such there are 10 digits (0 to 9) or 10 classes to predict. Results are reported using prediction error, which is nothing more than the inverted classification accuracy.\n",
        "\n",
        "<img src = 'https://dim-mlp-images.s3.amazonaws.com/Deep+Learning/MINST/MNIST.png'>"
      ]
    },
    {
      "cell_type": "code",
      "metadata": {
        "id": "YpdKL9VLlvP8",
        "colab_type": "code",
        "trusted": false,
        "colab": {}
      },
      "source": [
        "%tensorflow_version 2.x\n",
        "from tensorflow import keras"
      ],
      "execution_count": 0,
      "outputs": []
    },
    {
      "cell_type": "code",
      "metadata": {
        "id": "TiFJdP8ClvYp",
        "colab_type": "code",
        "trusted": false,
        "colab": {}
      },
      "source": [
        "import tensorflow as tf"
      ],
      "execution_count": 0,
      "outputs": []
    },
    {
      "cell_type": "code",
      "metadata": {
        "id": "C4i-ALc6lvCE",
        "colab_type": "code",
        "outputId": "752c76b3-339c-482b-b1be-a0e9dd5dcdae",
        "trusted": false,
        "colab": {
          "base_uri": "https://localhost:8080/",
          "height": 34
        }
      },
      "source": [
        "tf.__version__"
      ],
      "execution_count": 0,
      "outputs": [
        {
          "output_type": "execute_result",
          "data": {
            "text/plain": [
              "'2.2.0-rc4'"
            ]
          },
          "metadata": {
            "tags": []
          },
          "execution_count": 25
        }
      ]
    },
    {
      "cell_type": "code",
      "metadata": {
        "id": "ez2WbKEtwGfk",
        "colab_type": "code",
        "outputId": "edbe1ac9-adcf-41a7-f6ac-e2eb4ebded1d",
        "colab": {
          "base_uri": "https://localhost:8080/",
          "height": 34
        }
      },
      "source": [
        "keras.__version__"
      ],
      "execution_count": 0,
      "outputs": [
        {
          "output_type": "execute_result",
          "data": {
            "text/plain": [
              "'2.3.0-tf'"
            ]
          },
          "metadata": {
            "tags": []
          },
          "execution_count": 26
        }
      ]
    },
    {
      "cell_type": "markdown",
      "metadata": {
        "id": "oIM-f_BU_6t9",
        "colab_type": "text"
      },
      "source": [
        "<p><h3><b><font color = 'DarkBlue'> Loading the MNIST dataset in Keras </font></b></h3></p>\n",
        "\n",
        "The MNIST dataset comes preloaded in Keras, in the form of a set of four Numpy\n",
        "arrays."
      ]
    },
    {
      "cell_type": "code",
      "metadata": {
        "id": "cJSlV1H9lu01",
        "colab_type": "code",
        "trusted": false,
        "colab": {}
      },
      "source": [
        "from keras.datasets import mnist"
      ],
      "execution_count": 0,
      "outputs": []
    },
    {
      "cell_type": "code",
      "metadata": {
        "id": "ew2JbVqul-r5",
        "colab_type": "code",
        "trusted": false,
        "outputId": "cc7708bb-5d47-44a8-83cf-c882f633eb19",
        "colab": {
          "base_uri": "https://localhost:8080/",
          "height": 50
        }
      },
      "source": [
        "(train_images, train_labels), (test_images, test_labels) = mnist.load_data()"
      ],
      "execution_count": 0,
      "outputs": [
        {
          "output_type": "stream",
          "text": [
            "Downloading data from https://s3.amazonaws.com/img-datasets/mnist.npz\n",
            "11493376/11490434 [==============================] - 1s 0us/step\n"
          ],
          "name": "stdout"
        }
      ]
    },
    {
      "cell_type": "markdown",
      "metadata": {
        "id": "gyntrbIi_6uP",
        "colab_type": "text"
      },
      "source": [
        "<p><b>train_images and train_labels form the training set, the data that the model will learn from. The model will then be tested on the test set, test_images and test_labels.</b></p>"
      ]
    },
    {
      "cell_type": "code",
      "metadata": {
        "id": "K52hE1Sal-pL",
        "colab_type": "code",
        "outputId": "f8fe5975-86f0-4c57-c4c4-1c6fba027655",
        "trusted": false,
        "colab": {
          "base_uri": "https://localhost:8080/",
          "height": 34
        }
      },
      "source": [
        "train_images.shape"
      ],
      "execution_count": 0,
      "outputs": [
        {
          "output_type": "execute_result",
          "data": {
            "text/plain": [
              "(60000, 28, 28)"
            ]
          },
          "metadata": {
            "tags": []
          },
          "execution_count": 29
        }
      ]
    },
    {
      "cell_type": "code",
      "metadata": {
        "id": "8jK-ko4El-mU",
        "colab_type": "code",
        "outputId": "6ccaeecb-91e6-4e72-def0-67ad2f767b9f",
        "trusted": false,
        "colab": {
          "base_uri": "https://localhost:8080/",
          "height": 34
        }
      },
      "source": [
        "train_labels"
      ],
      "execution_count": 0,
      "outputs": [
        {
          "output_type": "execute_result",
          "data": {
            "text/plain": [
              "array([5, 0, 4, ..., 5, 6, 8], dtype=uint8)"
            ]
          },
          "metadata": {
            "tags": []
          },
          "execution_count": 30
        }
      ]
    },
    {
      "cell_type": "code",
      "metadata": {
        "id": "0mVP7AohgIT_",
        "colab_type": "code",
        "outputId": "16726cfb-54f3-4996-80fd-6a5d9b51016e",
        "colab": {
          "base_uri": "https://localhost:8080/",
          "height": 34
        }
      },
      "source": [
        "train_labels.shape"
      ],
      "execution_count": 0,
      "outputs": [
        {
          "output_type": "execute_result",
          "data": {
            "text/plain": [
              "(60000,)"
            ]
          },
          "metadata": {
            "tags": []
          },
          "execution_count": 31
        }
      ]
    },
    {
      "cell_type": "markdown",
      "metadata": {
        "id": "0dNj5f0pm-GD",
        "colab_type": "text"
      },
      "source": [
        "<p><h3><font color= 'DarkBlue'><b> Visualizing first four samples in Train dataset </b></font></h3></p>\n",
        "\n",
        "\n"
      ]
    },
    {
      "cell_type": "code",
      "metadata": {
        "id": "g5-Ri2rhmlpq",
        "colab_type": "code",
        "outputId": "d7334e07-e901-4a65-8429-30487c736ded",
        "colab": {
          "base_uri": "https://localhost:8080/",
          "height": 34
        }
      },
      "source": [
        "import matplotlib.pyplot as plt\n",
        "train_images[0,:,:].shape"
      ],
      "execution_count": 0,
      "outputs": [
        {
          "output_type": "execute_result",
          "data": {
            "text/plain": [
              "(28, 28)"
            ]
          },
          "metadata": {
            "tags": []
          },
          "execution_count": 32
        }
      ]
    },
    {
      "cell_type": "code",
      "metadata": {
        "id": "dU2kbzOsmlm6",
        "colab_type": "code",
        "outputId": "f4bda22c-0e9b-41f1-bb28-30a1e5b66c36",
        "colab": {
          "base_uri": "https://localhost:8080/",
          "height": 268
        }
      },
      "source": [
        "plt.subplot(2,2,1)\n",
        "plt.imshow(train_images[0], cmap='gray')\n",
        "plt.subplot(2,2,2)\n",
        "plt.imshow(train_images[1], cmap='gray')\n",
        "plt.subplot(2,2,3)\n",
        "plt.imshow(train_images[2], cmap='gray')\n",
        "plt.subplot(2,2,4)\n",
        "plt.imshow(train_images[3], cmap='gray');"
      ],
      "execution_count": 0,
      "outputs": [
        {
          "output_type": "display_data",
          "data": {
            "image/png": "[encoded data removed]",
            "text/plain": [
              "<Figure size 432x288 with 4 Axes>"
            ]
          },
          "metadata": {
            "tags": [],
            "needs_background": "light"
          }
        }
      ]
    },
    {
      "cell_type": "markdown",
      "metadata": {
        "id": "ZqK9nZl2_6vK",
        "colab_type": "text"
      },
      "source": [
        "<p><h3><b><font color = 'DarkBlue'> Preparing the image data </font></b></h3></p>\n",
        "\n",
        "The training dataset is structured as a 3-dimensional array of instance, image width and image height. For a multi-layer perceptron model we must reduce the images down into a vector of pixels. In this case the 28×28 sized images will be 784 pixel input values.\n",
        "\n",
        "Before training, we’ll preprocess the data by reshaping it into the shape the network expects and scaling it so that all values are in the [0, 1] interval. Previously, our training\n",
        "images, for instance, were stored in an array of shape (60000, 28, 28) of type uint8 with values in the [0, 255] interval. We transform it into a float32 array of\n",
        "shape (60000, 28 * 28) with values between 0 and 1.\n"
      ]
    },
    {
      "cell_type": "code",
      "metadata": {
        "id": "1-Xk5NMqd0jq",
        "colab_type": "code",
        "outputId": "6ff8bfc9-33ee-41f5-8bd7-ba67058386f3",
        "colab": {
          "base_uri": "https://localhost:8080/",
          "height": 34
        }
      },
      "source": [
        "train_images.shape"
      ],
      "execution_count": 0,
      "outputs": [
        {
          "output_type": "execute_result",
          "data": {
            "text/plain": [
              "(60000, 28, 28)"
            ]
          },
          "metadata": {
            "tags": []
          },
          "execution_count": 34
        }
      ]
    },
    {
      "cell_type": "code",
      "metadata": {
        "id": "e4Wzfr3_qlWz",
        "colab_type": "code",
        "outputId": "353ad302-34a7-4dc7-80d8-ed995474045e",
        "colab": {
          "base_uri": "https://localhost:8080/",
          "height": 34
        }
      },
      "source": [
        "train_images.ndim"
      ],
      "execution_count": 0,
      "outputs": [
        {
          "output_type": "execute_result",
          "data": {
            "text/plain": [
              "3"
            ]
          },
          "metadata": {
            "tags": []
          },
          "execution_count": 35
        }
      ]
    },
    {
      "cell_type": "code",
      "metadata": {
        "id": "QghMu3wLqoHd",
        "colab_type": "code",
        "colab": {}
      },
      "source": [
        "#train_images[10:20,10:20,10:20]"
      ],
      "execution_count": 0,
      "outputs": []
    },
    {
      "cell_type": "code",
      "metadata": {
        "id": "1ko1TTOFl-XM",
        "colab_type": "code",
        "trusted": false,
        "colab": {}
      },
      "source": [
        "train_images = train_images.reshape((60000, 28 * 28))\n",
        "train_images = train_images.astype('float32') / 255\n",
        "test_images = test_images.reshape((10000, 28 * 28)) \n",
        "test_images = test_images.astype('float32') / 255"
      ],
      "execution_count": 0,
      "outputs": []
    },
    {
      "cell_type": "code",
      "metadata": {
        "id": "1ZCBJ1WHp9K6",
        "colab_type": "code",
        "outputId": "05b80461-f552-4601-fe5c-accaff900aaa",
        "colab": {
          "base_uri": "https://localhost:8080/",
          "height": 34
        }
      },
      "source": [
        "train_images.ndim"
      ],
      "execution_count": 0,
      "outputs": [
        {
          "output_type": "execute_result",
          "data": {
            "text/plain": [
              "2"
            ]
          },
          "metadata": {
            "tags": []
          },
          "execution_count": 38
        }
      ]
    },
    {
      "cell_type": "code",
      "metadata": {
        "id": "X7HC7-5UqBKF",
        "colab_type": "code",
        "outputId": "203cbcd4-ea9b-4388-fe8b-275d0895d8c4",
        "colab": {
          "base_uri": "https://localhost:8080/",
          "height": 34
        }
      },
      "source": [
        "train_images.shape"
      ],
      "execution_count": 0,
      "outputs": [
        {
          "output_type": "execute_result",
          "data": {
            "text/plain": [
              "(60000, 784)"
            ]
          },
          "metadata": {
            "tags": []
          },
          "execution_count": 39
        }
      ]
    },
    {
      "cell_type": "code",
      "metadata": {
        "id": "uoKIhR8a9_hC",
        "colab_type": "code",
        "colab": {}
      },
      "source": [
        "#train_images[:20,100:120]"
      ],
      "execution_count": 0,
      "outputs": []
    },
    {
      "cell_type": "code",
      "metadata": {
        "id": "LwMBplzvrsAm",
        "colab_type": "code",
        "colab": {}
      },
      "source": [
        "#train_images[15000:15100,300:400]"
      ],
      "execution_count": 0,
      "outputs": []
    },
    {
      "cell_type": "markdown",
      "metadata": {
        "id": "8VwYt_Uq_6vQ",
        "colab_type": "text"
      },
      "source": [
        "<p><h3><b><font color = 'DarkBlue'> Preparing the labels </font></b></h3></p>\n",
        "\n",
        "the output variable is an integer from 0 to 9. This is a multi-class classification problem. As such, it is good practice to use a one hot encoding of the class values, transforming the vector of class integers into a binary matrix. We use to_categorical() to encode the labels."
      ]
    },
    {
      "cell_type": "code",
      "metadata": {
        "id": "dqn0KHdwsdiw",
        "colab_type": "code",
        "outputId": "d8d3ffdf-6000-4309-b563-052a9d083170",
        "colab": {
          "base_uri": "https://localhost:8080/",
          "height": 34
        }
      },
      "source": [
        "train_labels"
      ],
      "execution_count": 0,
      "outputs": [
        {
          "output_type": "execute_result",
          "data": {
            "text/plain": [
              "array([5, 0, 4, ..., 5, 6, 8], dtype=uint8)"
            ]
          },
          "metadata": {
            "tags": []
          },
          "execution_count": 42
        }
      ]
    },
    {
      "cell_type": "code",
      "metadata": {
        "id": "dhGWxEgDtLMU",
        "colab_type": "code",
        "trusted": false,
        "colab": {}
      },
      "source": [
        "from keras.utils import to_categorical\n",
        "train_labels = to_categorical(train_labels)\n",
        "test_labels = to_categorical(test_labels)"
      ],
      "execution_count": 0,
      "outputs": []
    },
    {
      "cell_type": "code",
      "metadata": {
        "id": "UOHmIOy_sS3o",
        "colab_type": "code",
        "outputId": "0ad37d30-6722-44c9-f84b-cc4532c706fc",
        "colab": {
          "base_uri": "https://localhost:8080/",
          "height": 134
        }
      },
      "source": [
        "train_labels"
      ],
      "execution_count": 0,
      "outputs": [
        {
          "output_type": "execute_result",
          "data": {
            "text/plain": [
              "array([[0., 0., 0., ..., 0., 0., 0.],\n",
              "       [1., 0., 0., ..., 0., 0., 0.],\n",
              "       [0., 0., 0., ..., 0., 0., 0.],\n",
              "       ...,\n",
              "       [0., 0., 0., ..., 0., 0., 0.],\n",
              "       [0., 0., 0., ..., 0., 0., 0.],\n",
              "       [0., 0., 0., ..., 0., 1., 0.]], dtype=float32)"
            ]
          },
          "metadata": {
            "tags": []
          },
          "execution_count": 44
        }
      ]
    },
    {
      "cell_type": "code",
      "metadata": {
        "id": "p63R1Dq6n7v-",
        "colab_type": "code",
        "outputId": "54c15dab-7469-454f-9977-698ddf547f18",
        "colab": {
          "base_uri": "https://localhost:8080/",
          "height": 34
        }
      },
      "source": [
        "train_labels.shape"
      ],
      "execution_count": 0,
      "outputs": [
        {
          "output_type": "execute_result",
          "data": {
            "text/plain": [
              "(60000, 10)"
            ]
          },
          "metadata": {
            "tags": []
          },
          "execution_count": 45
        }
      ]
    },
    {
      "cell_type": "markdown",
      "metadata": {
        "id": "3NDMUXUq_6uk",
        "colab_type": "text"
      },
      "source": [
        "<p><h3><b><font color = 'DarkBlue'> Network Architecture </font></b></h3></p>\n",
        "\n",
        "# ***1. Building a Sequential Model ***\n",
        "  We can create a deep learning sequential model with two layers. \n",
        "  \n",
        "\n",
        "\n",
        "\n"
      ]
    },
    {
      "cell_type": "code",
      "metadata": {
        "id": "QO58em68l-jq",
        "colab_type": "code",
        "trusted": false,
        "colab": {}
      },
      "source": [
        "from keras import models\n",
        "from keras import layers"
      ],
      "execution_count": 0,
      "outputs": []
    },
    {
      "cell_type": "code",
      "metadata": {
        "id": "nMHq_Wuwl-g-",
        "colab_type": "code",
        "trusted": false,
        "colab": {}
      },
      "source": [
        "network = keras.models.Sequential()"
      ],
      "execution_count": 0,
      "outputs": []
    },
    {
      "cell_type": "code",
      "metadata": {
        "id": "0WVF_cjQiyOs",
        "colab_type": "code",
        "colab": {}
      },
      "source": [
        "network.add(keras.layers.Dense(300, activation='relu',input_shape=(28*28,)))"
      ],
      "execution_count": 0,
      "outputs": []
    },
    {
      "cell_type": "markdown",
      "metadata": {
        "id": "RgZwrZjGO92j",
        "colab_type": "text"
      },
      "source": [
        "<p> We are creating a simple model with one hidden layer with 300 number of neurons. A rectifier activation function is used for the neurons in the hidden layer. \n",
        "A softmax activation function is used on the output layer to turn the outputs into probability-like values and allow one class of the 10 to be selected as the model’s output prediction.`"
      ]
    },
    {
      "cell_type": "code",
      "metadata": {
        "id": "j5U1nYA1ujLJ",
        "colab_type": "code",
        "outputId": "2994fac2-e907-4ba8-db36-97102678d52b",
        "colab": {
          "base_uri": "https://localhost:8080/",
          "height": 34
        }
      },
      "source": [
        "300*784 +300"
      ],
      "execution_count": 0,
      "outputs": [
        {
          "output_type": "execute_result",
          "data": {
            "text/plain": [
              "235500"
            ]
          },
          "metadata": {
            "tags": []
          },
          "execution_count": 50
        }
      ]
    },
    {
      "cell_type": "code",
      "metadata": {
        "id": "SUcfnK6PsDVU",
        "colab_type": "code",
        "outputId": "c5cdde3a-98d1-414c-c550-ec4415690750",
        "colab": {
          "base_uri": "https://localhost:8080/",
          "height": 218
        }
      },
      "source": [
        "network.summary()"
      ],
      "execution_count": 0,
      "outputs": [
        {
          "output_type": "stream",
          "text": [
            "Model: \"sequential\"\n",
            "_________________________________________________________________\n",
            "Layer (type)                 Output Shape              Param #   \n",
            "=================================================================\n",
            "dense_1 (Dense)              (None, 300)               235500    \n",
            "_________________________________________________________________\n",
            "dense_2 (Dense)              (None, 10)                3010      \n",
            "=================================================================\n",
            "Total params: 238,510\n",
            "Trainable params: 238,510\n",
            "Non-trainable params: 0\n",
            "_________________________________________________________________\n"
          ],
          "name": "stdout"
        }
      ]
    },
    {
      "cell_type": "code",
      "metadata": {
        "id": "aHjN2vvv0pnH",
        "colab_type": "code",
        "colab": {}
      },
      "source": [
        "network.add(keras.layers.Dense(10, activation='softmax'))   #this is for all 10 o/p classes"
      ],
      "execution_count": 0,
      "outputs": []
    },
    {
      "cell_type": "code",
      "metadata": {
        "id": "kPYIoeU90Ok9",
        "colab_type": "code",
        "outputId": "e6ee798c-ac43-47ea-a507-2d0e8b1b461b",
        "colab": {
          "base_uri": "https://localhost:8080/",
          "height": 218
        }
      },
      "source": [
        "network.summary()"
      ],
      "execution_count": 0,
      "outputs": [
        {
          "output_type": "stream",
          "text": [
            "Model: \"sequential\"\n",
            "_________________________________________________________________\n",
            "Layer (type)                 Output Shape              Param #   \n",
            "=================================================================\n",
            "dense_1 (Dense)              (None, 300)               235500    \n",
            "_________________________________________________________________\n",
            "dense_2 (Dense)              (None, 10)                3010      \n",
            "=================================================================\n",
            "Total params: 238,510\n",
            "Trainable params: 238,510\n",
            "Non-trainable params: 0\n",
            "_________________________________________________________________\n"
          ],
          "name": "stdout"
        }
      ]
    },
    {
      "cell_type": "code",
      "metadata": {
        "id": "W_fTwGraU9nj",
        "colab_type": "code",
        "outputId": "c7041182-0286-400b-ee3c-be6f5b50329e",
        "colab": {
          "base_uri": "https://localhost:8080/",
          "height": 34
        }
      },
      "source": [
        "len(network.layers)"
      ],
      "execution_count": 0,
      "outputs": [
        {
          "output_type": "execute_result",
          "data": {
            "text/plain": [
              "2"
            ]
          },
          "metadata": {
            "tags": []
          },
          "execution_count": 54
        }
      ]
    },
    {
      "cell_type": "code",
      "metadata": {
        "id": "ieFEnmb-0ke9",
        "colab_type": "code",
        "colab": {}
      },
      "source": [
        "#network.pop()   # to remove last layer from the model use pop()"
      ],
      "execution_count": 0,
      "outputs": []
    },
    {
      "cell_type": "code",
      "metadata": {
        "id": "YRVnJXhVVmk1",
        "colab_type": "code",
        "colab": {}
      },
      "source": [
        "weights = network.get_weights()"
      ],
      "execution_count": 0,
      "outputs": []
    },
    {
      "cell_type": "code",
      "metadata": {
        "id": "9we7Vj26w8JW",
        "colab_type": "code",
        "outputId": "11ca1929-e550-4d04-a54f-213b8ccd5339",
        "colab": {
          "base_uri": "https://localhost:8080/",
          "height": 34
        }
      },
      "source": [
        "type(weights)"
      ],
      "execution_count": 0,
      "outputs": [
        {
          "output_type": "execute_result",
          "data": {
            "text/plain": [
              "list"
            ]
          },
          "metadata": {
            "tags": []
          },
          "execution_count": 56
        }
      ]
    },
    {
      "cell_type": "code",
      "metadata": {
        "id": "y3ipZHOinkGY",
        "colab_type": "code",
        "outputId": "e7519c8c-1cd2-4303-8dde-d6228cff1bfb",
        "colab": {
          "base_uri": "https://localhost:8080/",
          "height": 235
        }
      },
      "source": [
        "weights[0],weights[1].shape,weights[2].shape,weights[3].shape"
      ],
      "execution_count": 0,
      "outputs": [
        {
          "output_type": "execute_result",
          "data": {
            "text/plain": [
              "(array([[-0.01731867, -0.05647884, -0.0264801 , ...,  0.03190438,\n",
              "         -0.00167399, -0.02166061],\n",
              "        [-0.06424138, -0.06334821, -0.0487069 , ...,  0.06746806,\n",
              "         -0.04828813, -0.0476395 ],\n",
              "        [-0.00881367,  0.04840907,  0.0072352 , ..., -0.07233669,\n",
              "         -0.05744822, -0.06988733],\n",
              "        ...,\n",
              "        [-0.0720916 ,  0.04596048, -0.04995049, ...,  0.05252382,\n",
              "         -0.01097565, -0.06130369],\n",
              "        [ 0.01340879,  0.05217044,  0.00062765, ..., -0.03046556,\n",
              "         -0.0109627 ,  0.02124083],\n",
              "        [ 0.03210633,  0.01292304,  0.04735904, ...,  0.06699659,\n",
              "         -0.05316118,  0.00265632]], dtype=float32), (300,), (300, 10), (10,))"
            ]
          },
          "metadata": {
            "tags": []
          },
          "execution_count": 58
        }
      ]
    },
    {
      "cell_type": "code",
      "metadata": {
        "id": "zPR7cen1Vmh4",
        "colab_type": "code",
        "outputId": "094d48b0-794b-408c-f676-0f90a3a9de82",
        "colab": {
          "base_uri": "https://localhost:8080/",
          "height": 34
        }
      },
      "source": [
        "weights[0].shape,weights[1].shape,weights[2].shape,weights[3].shape     #weight , bias of each layer"
      ],
      "execution_count": 0,
      "outputs": [
        {
          "output_type": "execute_result",
          "data": {
            "text/plain": [
              "((784, 300), (300,), (300, 10), (10,))"
            ]
          },
          "metadata": {
            "tags": []
          },
          "execution_count": 59
        }
      ]
    },
    {
      "cell_type": "code",
      "metadata": {
        "id": "aoKgEEqSyLk0",
        "colab_type": "code",
        "outputId": "4826937b-5832-4551-e600-de6d0f3eec32",
        "colab": {
          "base_uri": "https://localhost:8080/",
          "height": 235
        }
      },
      "source": [
        "weights[2]"
      ],
      "execution_count": 0,
      "outputs": [
        {
          "output_type": "execute_result",
          "data": {
            "text/plain": [
              "array([[ 0.1229137 ,  0.00478826, -0.07037377, ..., -0.00901148,\n",
              "         0.08875585,  0.0661653 ],\n",
              "       [-0.04488339, -0.0521755 , -0.00658797, ...,  0.01702197,\n",
              "         0.04509351,  0.05289634],\n",
              "       [ 0.01966147, -0.01143819, -0.13401142, ..., -0.0434524 ,\n",
              "        -0.13892637, -0.01351519],\n",
              "       ...,\n",
              "       [ 0.0454206 ,  0.03963225,  0.12783365, ...,  0.13399358,\n",
              "         0.13802065, -0.03430026],\n",
              "       [-0.05264495, -0.09995078, -0.02862163, ...,  0.06233165,\n",
              "         0.01892306,  0.05769217],\n",
              "       [-0.13077381,  0.07884824,  0.12159799, ...,  0.08461732,\n",
              "        -0.1289789 , -0.05303634]], dtype=float32)"
            ]
          },
          "metadata": {
            "tags": []
          },
          "execution_count": 60
        }
      ]
    },
    {
      "cell_type": "code",
      "metadata": {
        "id": "-DxSrOzQn4rG",
        "colab_type": "code",
        "outputId": "9eef81e0-d113-4a6f-8a2c-a562ccfef8b1",
        "colab": {
          "base_uri": "https://localhost:8080/",
          "height": 34
        }
      },
      "source": [
        "weights[3]"
      ],
      "execution_count": 0,
      "outputs": [
        {
          "output_type": "execute_result",
          "data": {
            "text/plain": [
              "array([0., 0., 0., 0., 0., 0., 0., 0., 0., 0.], dtype=float32)"
            ]
          },
          "metadata": {
            "tags": []
          },
          "execution_count": 61
        }
      ]
    },
    {
      "cell_type": "code",
      "metadata": {
        "id": "N69OSiDL0kYM",
        "colab_type": "code",
        "colab": {}
      },
      "source": [
        "keras.backend.clear_session()"
      ],
      "execution_count": 0,
      "outputs": []
    },
    {
      "cell_type": "markdown",
      "metadata": {
        "id": "tC8987F5_6vD",
        "colab_type": "text"
      },
      "source": [
        "<p><h3><b><font color = 'DarkBlue'> Compilation Step</font></b></h3></p>\n",
        "\n",
        "We will call compile() to specify the loss function. As our targets are one-hot vectors we would use 'categorical_crossentropy' loss function. \n",
        "\n",
        "The optimizer we are using is simple Stochastic Gradient Descent 'sgd' which is used to learn the weights. \n",
        "\n",
        "As this is a classifier model we use 'accuracy' as the metrics for evaluation. "
      ]
    },
    {
      "cell_type": "code",
      "metadata": {
        "id": "9nyRD2uFl-aQ",
        "colab_type": "code",
        "trusted": false,
        "colab": {}
      },
      "source": [
        "network.compile(optimizer= keras.optimizers.SGD(learning_rate=0.01),\n",
        "loss='categorical_crossentropy',\n",
        "metrics=['accuracy'])"
      ],
      "execution_count": 0,
      "outputs": []
    },
    {
      "cell_type": "code",
      "metadata": {
        "colab_type": "code",
        "trusted": false,
        "id": "e07qUZkNQ0Ej",
        "colab": {}
      },
      "source": [
        "network.compile(optimizer= 'SGD',\n",
        "loss='categorical_crossentropy',\n",
        "metrics=['accuracy'])"
      ],
      "execution_count": 0,
      "outputs": []
    },
    {
      "cell_type": "markdown",
      "metadata": {
        "id": "KfoR2qwC_6vV",
        "colab_type": "text"
      },
      "source": [
        "<p><h3><b><font color = 'DarkBlue'> Fit the model with train data  </font></b></h3></p>\n",
        "\n",
        "We call fit() to train out model.\n",
        "\n",
        "It takes input features(train_images) and the target classes (train_labels) as well as the number of epochs to train. \n",
        "\n",
        "The number of epochs is a hyperparameter that defines the number times that the learning algorithm will work through the entire training dataset.\n",
        "\n",
        "One epoch means that each sample in the training dataset has had an opportunity to update the internal model parameters. An epoch is comprised of one or more batches. \n",
        "\n",
        "\n"
      ]
    },
    {
      "cell_type": "code",
      "metadata": {
        "id": "f7gEd8Zj8FG1",
        "colab_type": "code",
        "colab": {}
      },
      "source": [
        "60000/512"
      ],
      "execution_count": 0,
      "outputs": []
    },
    {
      "cell_type": "code",
      "metadata": {
        "id": "x-sv_YFHFelh",
        "colab_type": "code",
        "outputId": "ccf342bd-07f5-47ed-bd5f-4d69cfc3cb81",
        "colab": {
          "base_uri": "https://localhost:8080/",
          "height": 34
        }
      },
      "source": [
        "test_images.shape,train_images.shape"
      ],
      "execution_count": 0,
      "outputs": [
        {
          "output_type": "execute_result",
          "data": {
            "text/plain": [
              "((10000, 784), (60000, 784))"
            ]
          },
          "metadata": {
            "tags": []
          },
          "execution_count": 63
        }
      ]
    },
    {
      "cell_type": "code",
      "metadata": {
        "id": "Uzn-AEedFeaU",
        "colab_type": "code",
        "colab": {}
      },
      "source": [
        ""
      ],
      "execution_count": 0,
      "outputs": []
    },
    {
      "cell_type": "code",
      "metadata": {
        "id": "ahic_vfltLJk",
        "colab_type": "code",
        "trusted": false,
        "outputId": "49be4ecc-e04a-42b7-a4f6-fa6339f8d9c3",
        "colab": {
          "base_uri": "https://localhost:8080/",
          "height": 353
        }
      },
      "source": [
        "history = network.fit(train_images, train_labels,epochs=10,batch_size=512,validation_data=(test_images,test_labels))"
      ],
      "execution_count": 0,
      "outputs": [
        {
          "output_type": "stream",
          "text": [
            "Epoch 1/10\n",
            "118/118 [==============================] - 0s 4ms/step - loss: 0.4183 - accuracy: 0.8903 - val_loss: 0.3906 - val_accuracy: 0.8989\n",
            "Epoch 2/10\n",
            "118/118 [==============================] - 0s 4ms/step - loss: 0.4054 - accuracy: 0.8928 - val_loss: 0.3794 - val_accuracy: 0.9006\n",
            "Epoch 3/10\n",
            "118/118 [==============================] - 0s 4ms/step - loss: 0.3943 - accuracy: 0.8952 - val_loss: 0.3695 - val_accuracy: 0.9024\n",
            "Epoch 4/10\n",
            "118/118 [==============================] - 0s 4ms/step - loss: 0.3846 - accuracy: 0.8974 - val_loss: 0.3609 - val_accuracy: 0.9039\n",
            "Epoch 5/10\n",
            "118/118 [==============================] - 0s 3ms/step - loss: 0.3761 - accuracy: 0.8991 - val_loss: 0.3533 - val_accuracy: 0.9056\n",
            "Epoch 6/10\n",
            "118/118 [==============================] - 0s 4ms/step - loss: 0.3684 - accuracy: 0.9007 - val_loss: 0.3465 - val_accuracy: 0.9067\n",
            "Epoch 7/10\n",
            "118/118 [==============================] - 0s 4ms/step - loss: 0.3616 - accuracy: 0.9021 - val_loss: 0.3405 - val_accuracy: 0.9085\n",
            "Epoch 8/10\n",
            "118/118 [==============================] - 0s 4ms/step - loss: 0.3553 - accuracy: 0.9036 - val_loss: 0.3348 - val_accuracy: 0.9093\n",
            "Epoch 9/10\n",
            "118/118 [==============================] - 0s 4ms/step - loss: 0.3495 - accuracy: 0.9051 - val_loss: 0.3300 - val_accuracy: 0.9101\n",
            "Epoch 10/10\n",
            "118/118 [==============================] - 0s 4ms/step - loss: 0.3443 - accuracy: 0.9058 - val_loss: 0.3252 - val_accuracy: 0.9114\n"
          ],
          "name": "stdout"
        }
      ]
    },
    {
      "cell_type": "code",
      "metadata": {
        "id": "XgaLslVjb-p9",
        "colab_type": "code",
        "colab": {}
      },
      "source": [
        "history.validation_data"
      ],
      "execution_count": 0,
      "outputs": []
    },
    {
      "cell_type": "markdown",
      "metadata": {
        "id": "mNX1yJaW_6vb",
        "colab_type": "text"
      },
      "source": [
        "<p><b>Two quantities are displayed during training: the loss of the network over the training data, and the accuracy of the network over the training data.</b></p>"
      ]
    },
    {
      "cell_type": "code",
      "metadata": {
        "id": "ZX0cgYqkazla",
        "colab_type": "code",
        "outputId": "7cb05005-f0f0-469c-f286-d2d7b6811129",
        "colab": {
          "base_uri": "https://localhost:8080/",
          "height": 235
        }
      },
      "source": [
        "y_proba = network.predict(test_images)    # predict() estimates one probablity per class from 0 to 9\n",
        "y_proba"
      ],
      "execution_count": 0,
      "outputs": [
        {
          "output_type": "execute_result",
          "data": {
            "text/plain": [
              "array([[1.7121591e-04, 2.2856091e-06, 2.3035027e-04, ..., 9.9449569e-01,\n",
              "        1.1854284e-04, 3.6461013e-03],\n",
              "       [1.6393112e-02, 4.3071480e-04, 8.1851774e-01, ..., 3.3271142e-06,\n",
              "        8.7079257e-03, 9.7266702e-06],\n",
              "       [2.9938683e-04, 9.5695812e-01, 9.3299104e-03, ..., 4.3933149e-03,\n",
              "        8.2148835e-03, 2.5630707e-03],\n",
              "       ...,\n",
              "       [5.1784691e-06, 2.4051578e-05, 5.4000837e-05, ..., 2.6115491e-03,\n",
              "        7.6823169e-03, 4.4671733e-02],\n",
              "       [1.0641537e-02, 7.0272642e-03, 1.6725062e-03, ..., 1.5830795e-03,\n",
              "        4.1363108e-01, 1.8811855e-03],\n",
              "       [5.8802054e-04, 2.1193340e-08, 2.1961327e-03, ..., 2.0869622e-08,\n",
              "        1.4601179e-05, 1.3118184e-06]], dtype=float32)"
            ]
          },
          "metadata": {
            "tags": []
          },
          "execution_count": 67
        }
      ]
    },
    {
      "cell_type": "code",
      "metadata": {
        "id": "6fMEh-S_DycZ",
        "colab_type": "code",
        "outputId": "d65f3565-b6d0-4cd6-cfd2-769e748a4671",
        "colab": {
          "base_uri": "https://localhost:8080/",
          "height": 118
        }
      },
      "source": [
        "y_proba[0:2]"
      ],
      "execution_count": 0,
      "outputs": [
        {
          "output_type": "execute_result",
          "data": {
            "text/plain": [
              "array([[1.7121591e-04, 2.2856091e-06, 2.3035027e-04, 1.1788025e-03,\n",
              "        4.7342375e-05, 1.0676657e-04, 2.8986756e-06, 9.9449569e-01,\n",
              "        1.1854284e-04, 3.6461013e-03],\n",
              "       [1.6393112e-02, 4.3071480e-04, 8.1851774e-01, 1.9240232e-02,\n",
              "        1.9016753e-06, 3.0727291e-02, 1.0596801e-01, 3.3271142e-06,\n",
              "        8.7079257e-03, 9.7266702e-06]], dtype=float32)"
            ]
          },
          "metadata": {
            "tags": []
          },
          "execution_count": 68
        }
      ]
    },
    {
      "cell_type": "code",
      "metadata": {
        "id": "TjwukB2bWtKZ",
        "colab_type": "code",
        "outputId": "fbfaff20-535d-45d0-a89b-822b48d696a8",
        "colab": {
          "base_uri": "https://localhost:8080/",
          "height": 34
        }
      },
      "source": [
        "y_proba.argmax(axis=1)"
      ],
      "execution_count": 0,
      "outputs": [
        {
          "output_type": "execute_result",
          "data": {
            "text/plain": [
              "array([7, 2, 1, ..., 4, 5, 6])"
            ]
          },
          "metadata": {
            "tags": []
          },
          "execution_count": 69
        }
      ]
    },
    {
      "cell_type": "markdown",
      "metadata": {
        "id": "iy3JV47bWkMU",
        "colab_type": "text"
      },
      "source": [
        ""
      ]
    },
    {
      "cell_type": "code",
      "metadata": {
        "id": "k55TnbYqEcyk",
        "colab_type": "code",
        "outputId": "7400dd6e-54b1-4d04-905d-fbe8be80fdce",
        "colab": {
          "base_uri": "https://localhost:8080/",
          "height": 34
        }
      },
      "source": [
        "test_images.shape"
      ],
      "execution_count": 0,
      "outputs": [
        {
          "output_type": "execute_result",
          "data": {
            "text/plain": [
              "(10000, 784)"
            ]
          },
          "metadata": {
            "tags": []
          },
          "execution_count": 70
        }
      ]
    },
    {
      "cell_type": "code",
      "metadata": {
        "id": "doZ6w4b6EjJ5",
        "colab_type": "code",
        "outputId": "6d059331-d3b2-47bc-f5e9-b2cc7cdc915e",
        "colab": {
          "base_uri": "https://localhost:8080/",
          "height": 282
        }
      },
      "source": [
        "test_1 = test_images[0,:]\n",
        "test_1 = test_1.reshape([28,28])\n",
        "plt.imshow(test_1,cmap='gray')"
      ],
      "execution_count": 0,
      "outputs": [
        {
          "output_type": "execute_result",
          "data": {
            "text/plain": [
              "<matplotlib.image.AxesImage at 0x7f080353fba8>"
            ]
          },
          "metadata": {
            "tags": []
          },
          "execution_count": 74
        },
        {
          "output_type": "display_data",
          "data": {
            "image/png": "[encoded data removed]",
            "text/plain": [
              "<Figure size 432x288 with 1 Axes>"
            ]
          },
          "metadata": {
            "tags": [],
            "needs_background": "light"
          }
        }
      ]
    },
    {
      "cell_type": "code",
      "metadata": {
        "id": "Vq5Y2V0dazXp",
        "colab_type": "code",
        "outputId": "d3b7972d-0f8f-4519-dd35-cd001cf8971d",
        "colab": {
          "base_uri": "https://localhost:8080/",
          "height": 104
        }
      },
      "source": [
        "y_pred = network.predict_classes(test_images)   # predict_classes() outputs the class with highest estimated probability\n",
        "y_pred"
      ],
      "execution_count": 0,
      "outputs": [
        {
          "output_type": "stream",
          "text": [
            "WARNING:tensorflow:From <ipython-input-75-43cf785694af>:1: Sequential.predict_classes (from tensorflow.python.keras.engine.sequential) is deprecated and will be removed after 2021-01-01.\n",
            "Instructions for updating:\n",
            "Please use instead:* `np.argmax(model.predict(x), axis=-1)`,   if your model does multi-class classification   (e.g. if it uses a `softmax` last-layer activation).* `(model.predict(x) > 0.5).astype(\"int32\")`,   if your model does binary classification   (e.g. if it uses a `sigmoid` last-layer activation).\n"
          ],
          "name": "stdout"
        },
        {
          "output_type": "execute_result",
          "data": {
            "text/plain": [
              "array([7, 2, 1, ..., 4, 5, 6])"
            ]
          },
          "metadata": {
            "tags": []
          },
          "execution_count": 75
        }
      ]
    },
    {
      "cell_type": "code",
      "metadata": {
        "id": "9S66MFcu1d02",
        "colab_type": "code",
        "outputId": "67c6317c-c7c3-4617-e90d-6bb4c1eb762b",
        "colab": {
          "base_uri": "https://localhost:8080/",
          "height": 34
        }
      },
      "source": [
        "import numpy as np\n",
        "y_actual = np.argmax(test_labels,axis=1)            #converts to y actual value as we defined test lables initaillay \n",
        "y_actual"
      ],
      "execution_count": 0,
      "outputs": [
        {
          "output_type": "execute_result",
          "data": {
            "text/plain": [
              "array([7, 2, 1, ..., 4, 5, 6])"
            ]
          },
          "metadata": {
            "tags": []
          },
          "execution_count": 81
        }
      ]
    },
    {
      "cell_type": "code",
      "metadata": {
        "id": "SyuKSJSmX3Dx",
        "colab_type": "code",
        "outputId": "35c33553-d784-4af6-8280-eb7e7504706c",
        "colab": {
          "base_uri": "https://localhost:8080/",
          "height": 34
        }
      },
      "source": [
        "test_labels[0]"
      ],
      "execution_count": 0,
      "outputs": [
        {
          "output_type": "execute_result",
          "data": {
            "text/plain": [
              "array([0., 0., 0., 0., 0., 0., 0., 1., 0., 0.], dtype=float32)"
            ]
          },
          "metadata": {
            "tags": []
          },
          "execution_count": 80
        }
      ]
    },
    {
      "cell_type": "code",
      "metadata": {
        "id": "ZhrzkVFb1QQu",
        "colab_type": "code",
        "colab": {}
      },
      "source": [
        "from sklearn.metrics import confusion_matrix"
      ],
      "execution_count": 0,
      "outputs": []
    },
    {
      "cell_type": "code",
      "metadata": {
        "id": "PNdT3Ove1svo",
        "colab_type": "code",
        "outputId": "5b379a30-6ef8-49fe-d5f5-4175d2e8db4e",
        "colab": {
          "base_uri": "https://localhost:8080/",
          "height": 185
        }
      },
      "source": [
        "confusion_matrix(y_actual,y_pred)"
      ],
      "execution_count": 0,
      "outputs": [
        {
          "output_type": "execute_result",
          "data": {
            "text/plain": [
              "array([[ 960,    0,    5,    2,    0,    2,    5,    1,    5,    0],\n",
              "       [   0, 1108,    2,    3,    1,    1,    4,    0,   16,    0],\n",
              "       [  11,    2,  902,   20,   16,    1,   17,   16,   38,    9],\n",
              "       [   3,    1,   18,  908,    1,   32,    5,   13,   19,   10],\n",
              "       [   1,    5,    7,    0,  906,    1,   13,    2,    7,   40],\n",
              "       [  11,    3,    2,   41,   16,  765,   16,    6,   25,    7],\n",
              "       [  16,    3,    6,    2,   12,   17,  898,    1,    3,    0],\n",
              "       [   4,   15,   27,    6,   10,    0,    0,  930,    4,   32],\n",
              "       [   9,    7,   11,   29,   12,   21,   11,   14,  848,   12],\n",
              "       [  11,    7,    4,   11,   42,   12,    1,   25,    7,  889]])"
            ]
          },
          "metadata": {
            "tags": []
          },
          "execution_count": 83
        }
      ]
    },
    {
      "cell_type": "markdown",
      "metadata": {
        "id": "SsTy7mgY_6vd",
        "colab_type": "text"
      },
      "source": [
        "<p><h3><b><font color = 'DarkBlue'> Evaluate the model  </font></b></h3></p>\n",
        "\n",
        "check the performance of model on test data."
      ]
    },
    {
      "cell_type": "code",
      "metadata": {
        "id": "10kDih0qtLGn",
        "colab_type": "code",
        "outputId": "84044776-af67-4733-8073-8b6f33a00ba6",
        "trusted": false,
        "colab": {
          "base_uri": "https://localhost:8080/",
          "height": 34
        }
      },
      "source": [
        "test_loss, test_acc = network.evaluate(test_images, test_labels)"
      ],
      "execution_count": 0,
      "outputs": [
        {
          "output_type": "stream",
          "text": [
            "313/313 [==============================] - 1s 2ms/step - loss: 0.3252 - accuracy: 0.9114\n"
          ],
          "name": "stdout"
        }
      ]
    },
    {
      "cell_type": "code",
      "metadata": {
        "id": "0V__XaRltLAl",
        "colab_type": "code",
        "outputId": "b176ca34-88bc-4b53-c151-8291b1e99113",
        "trusted": false,
        "colab": {
          "base_uri": "https://localhost:8080/",
          "height": 50
        }
      },
      "source": [
        "print('test_acc:', test_acc)\n",
        "print('test_loss :', test_loss)"
      ],
      "execution_count": 0,
      "outputs": [
        {
          "output_type": "stream",
          "text": [
            "test_acc: 0.9114000201225281\n",
            "test_loss : 0.3251717686653137\n"
          ],
          "name": "stdout"
        }
      ]
    }
  ]
}