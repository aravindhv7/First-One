{
  "nbformat": 4,
  "nbformat_minor": 0,
  "metadata": {
    "colab": {
      "name": "MNIST_Dataset_Initializers_and_Activations_Functions.ipynb",
      "provenance": [],
      "collapsed_sections": [],
      "include_colab_link": true
    },
    "kernelspec": {
      "name": "python3",
      "display_name": "Python 3"
    },
    "accelerator": "GPU"
  },
  "cells": [
    {
      "cell_type": "markdown",
      "metadata": {
        "id": "view-in-github",
        "colab_type": "text"
      },
      "source": [
        "<a href=\"https://colab.research.google.com/github/aravindhv7/First-One/blob/master/MNIST_Dataset_Initializers_and_Activations_Functions.ipynb\" target=\"_parent\"><img src=\"https://colab.research.google.com/assets/colab-badge.svg\" alt=\"Open In Colab\"/></a>"
      ]
    },
    {
      "cell_type": "code",
      "metadata": {
        "id": "suoFu99nsoca",
        "colab_type": "code",
        "colab": {}
      },
      "source": [
        "%tensorflow_version 2.x"
      ],
      "execution_count": 0,
      "outputs": []
    },
    {
      "cell_type": "code",
      "metadata": {
        "id": "IQUSCXyytXMm",
        "colab_type": "code",
        "colab": {}
      },
      "source": [
        "import tensorflow as tf"
      ],
      "execution_count": 0,
      "outputs": []
    },
    {
      "cell_type": "code",
      "metadata": {
        "id": "4jdNTIqwtdrW",
        "colab_type": "code",
        "colab": {}
      },
      "source": [
        "from tensorflow import keras"
      ],
      "execution_count": 0,
      "outputs": []
    },
    {
      "cell_type": "code",
      "metadata": {
        "id": "h_VjOB71tgAR",
        "colab_type": "code",
        "outputId": "a825a6a0-dd9e-474d-d5dc-f9baa77071a5",
        "colab": {
          "base_uri": "https://localhost:8080/",
          "height": 34
        }
      },
      "source": [
        "tf.__version__"
      ],
      "execution_count": 0,
      "outputs": [
        {
          "output_type": "execute_result",
          "data": {
            "text/plain": [
              "'2.0.0'"
            ]
          },
          "metadata": {
            "tags": []
          },
          "execution_count": 5
        }
      ]
    },
    {
      "cell_type": "code",
      "metadata": {
        "id": "5gHV--Nftiq0",
        "colab_type": "code",
        "outputId": "e090d34a-5fe1-4415-83d8-85b148ce4e6b",
        "colab": {
          "base_uri": "https://localhost:8080/",
          "height": 34
        }
      },
      "source": [
        "keras.__version__"
      ],
      "execution_count": 0,
      "outputs": [
        {
          "output_type": "execute_result",
          "data": {
            "text/plain": [
              "'2.2.4-tf'"
            ]
          },
          "metadata": {
            "tags": []
          },
          "execution_count": 4
        }
      ]
    },
    {
      "cell_type": "code",
      "metadata": {
        "id": "HGOGiLfDtzgT",
        "colab_type": "code",
        "outputId": "3312fee7-3612-43ed-87f1-bcb15c810843",
        "colab": {
          "base_uri": "https://localhost:8080/",
          "height": 34
        }
      },
      "source": [
        "from keras.datasets import mnist"
      ],
      "execution_count": 4,
      "outputs": [
        {
          "output_type": "stream",
          "text": [
            "Using TensorFlow backend.\n"
          ],
          "name": "stderr"
        }
      ]
    },
    {
      "cell_type": "code",
      "metadata": {
        "id": "qBavtK5-t3WB",
        "colab_type": "code",
        "outputId": "81afb08e-d69c-4751-ab33-0c1df675624f",
        "colab": {
          "base_uri": "https://localhost:8080/",
          "height": 50
        }
      },
      "source": [
        "(train_images,train_labels),(test_images,test_labels)=mnist.load_data()"
      ],
      "execution_count": 5,
      "outputs": [
        {
          "output_type": "stream",
          "text": [
            "Downloading data from https://s3.amazonaws.com/img-datasets/mnist.npz\n",
            "11493376/11490434 [==============================] - 2s 0us/step\n"
          ],
          "name": "stdout"
        }
      ]
    },
    {
      "cell_type": "code",
      "metadata": {
        "id": "dUs7QtEJuTMd",
        "colab_type": "code",
        "colab": {}
      },
      "source": [
        "train_images= train_images.reshape(60000,28*28)\n",
        "train_images= train_images.astype(\"float64\")/255\n",
        "test_images= test_images.reshape(10000,28*28)\n",
        "test_images= test_images.astype(\"float64\")/255\n"
      ],
      "execution_count": 0,
      "outputs": []
    },
    {
      "cell_type": "code",
      "metadata": {
        "id": "HoXpv_OVvA7H",
        "colab_type": "code",
        "colab": {}
      },
      "source": [
        "from keras.utils import to_categorical\n",
        "train_labels= to_categorical(train_labels)\n",
        "test_labels= to_categorical(test_labels)"
      ],
      "execution_count": 0,
      "outputs": []
    },
    {
      "cell_type": "code",
      "metadata": {
        "id": "szlLpwCfvdxV",
        "colab_type": "code",
        "colab": {}
      },
      "source": [
        "from keras.models import Model\n",
        "from keras.layers import Input\n",
        "from keras.layers import Dense\n",
        "from keras.layers import Activation\n",
        "from keras.layers import LeakyReLU\n",
        "from keras.activations import selu"
      ],
      "execution_count": 0,
      "outputs": []
    },
    {
      "cell_type": "markdown",
      "metadata": {
        "id": "67QrH2M_4LTQ",
        "colab_type": "text"
      },
      "source": [
        "Relu with glorot normal"
      ]
    },
    {
      "cell_type": "code",
      "metadata": {
        "id": "gyVVTKwav1W6",
        "colab_type": "code",
        "colab": {}
      },
      "source": [
        "inp = keras.layers.Input(shape=(784,))\n",
        "hidden1 = keras.layers.Dense(300, activation='relu',kernel_initializer='glorot_normal')(inp)\n",
        "hidden2 = keras.layers.Dense(200, activation='relu',kernel_initializer='glorot_normal')(hidden1)\n",
        "hidden3 = keras.layers.Dense(100, activation='relu',kernel_initializer='glorot_normal')(hidden2)\n",
        "out=keras.layers.Dense(10, activation='softmax')(hidden3)\n",
        "model_fapi = keras.models.Model(inputs=inp, outputs=out)"
      ],
      "execution_count": 0,
      "outputs": []
    },
    {
      "cell_type": "code",
      "metadata": {
        "id": "tiTlwaQ2zFp2",
        "colab_type": "code",
        "outputId": "db4b901b-f6d4-4407-fb7a-5778e42cce26",
        "colab": {
          "base_uri": "https://localhost:8080/",
          "height": 336
        }
      },
      "source": [
        "model_fapi.summary()"
      ],
      "execution_count": 0,
      "outputs": [
        {
          "output_type": "stream",
          "text": [
            "Model: \"model\"\n",
            "_________________________________________________________________\n",
            "Layer (type)                 Output Shape              Param #   \n",
            "=================================================================\n",
            "input_1 (InputLayer)         [(None, 784)]             0         \n",
            "_________________________________________________________________\n",
            "dense (Dense)                (None, 300)               235500    \n",
            "_________________________________________________________________\n",
            "dense_1 (Dense)              (None, 200)               60200     \n",
            "_________________________________________________________________\n",
            "dense_2 (Dense)              (None, 100)               20100     \n",
            "_________________________________________________________________\n",
            "dense_3 (Dense)              (None, 10)                1010      \n",
            "=================================================================\n",
            "Total params: 316,810\n",
            "Trainable params: 316,810\n",
            "Non-trainable params: 0\n",
            "_________________________________________________________________\n"
          ],
          "name": "stdout"
        }
      ]
    },
    {
      "cell_type": "code",
      "metadata": {
        "id": "HsENS8AtzSrt",
        "colab_type": "code",
        "colab": {}
      },
      "source": [
        "model_fapi.compile(optimizer='sgd',\n",
        "loss='categorical_crossentropy',\n",
        "metrics=['accuracy'])"
      ],
      "execution_count": 0,
      "outputs": []
    },
    {
      "cell_type": "code",
      "metadata": {
        "id": "kh4Dj2Mh1NxL",
        "colab_type": "code",
        "outputId": "6afa3a64-340a-4f4f-8adc-f2780968e8e1",
        "colab": {
          "base_uri": "https://localhost:8080/",
          "height": 370
        }
      },
      "source": [
        "model_fapi.fit(train_images, train_labels, epochs=10, batch_size=512,validation_data=(test_images,test_labels))"
      ],
      "execution_count": 11,
      "outputs": [
        {
          "output_type": "stream",
          "text": [
            "Epoch 1/10\n",
            "118/118 [==============================] - 1s 5ms/step - loss: 2.0347 - accuracy: 0.4404 - val_loss: 1.6628 - val_accuracy: 0.6706\n",
            "Epoch 2/10\n",
            "118/118 [==============================] - 0s 4ms/step - loss: 1.2934 - accuracy: 0.7514 - val_loss: 0.9381 - val_accuracy: 0.8097\n",
            "Epoch 3/10\n",
            "118/118 [==============================] - 0s 4ms/step - loss: 0.7911 - accuracy: 0.8175 - val_loss: 0.6383 - val_accuracy: 0.8461\n",
            "Epoch 4/10\n",
            "118/118 [==============================] - 0s 4ms/step - loss: 0.5932 - accuracy: 0.8479 - val_loss: 0.5128 - val_accuracy: 0.8676\n",
            "Epoch 5/10\n",
            "118/118 [==============================] - 0s 4ms/step - loss: 0.4987 - accuracy: 0.8672 - val_loss: 0.4443 - val_accuracy: 0.8824\n",
            "Epoch 6/10\n",
            "118/118 [==============================] - 0s 4ms/step - loss: 0.4423 - accuracy: 0.8793 - val_loss: 0.4020 - val_accuracy: 0.8916\n",
            "Epoch 7/10\n",
            "118/118 [==============================] - 0s 4ms/step - loss: 0.4047 - accuracy: 0.8883 - val_loss: 0.3697 - val_accuracy: 0.9000\n",
            "Epoch 8/10\n",
            "118/118 [==============================] - 0s 4ms/step - loss: 0.3770 - accuracy: 0.8955 - val_loss: 0.3494 - val_accuracy: 0.9030\n",
            "Epoch 9/10\n",
            "118/118 [==============================] - 0s 4ms/step - loss: 0.3559 - accuracy: 0.9002 - val_loss: 0.3325 - val_accuracy: 0.9081\n",
            "Epoch 10/10\n",
            "118/118 [==============================] - 0s 4ms/step - loss: 0.3387 - accuracy: 0.9050 - val_loss: 0.3174 - val_accuracy: 0.9105\n"
          ],
          "name": "stdout"
        },
        {
          "output_type": "execute_result",
          "data": {
            "text/plain": [
              "<tensorflow.python.keras.callbacks.History at 0x7fe450527160>"
            ]
          },
          "metadata": {
            "tags": []
          },
          "execution_count": 11
        }
      ]
    },
    {
      "cell_type": "markdown",
      "metadata": {
        "id": "KIlTHEwT4S9S",
        "colab_type": "text"
      },
      "source": [
        "Leaky Relu"
      ]
    },
    {
      "cell_type": "code",
      "metadata": {
        "id": "I_-Gw3Sl0clY",
        "colab_type": "code",
        "colab": {}
      },
      "source": [
        "inp1 = keras.layers.Input(shape=(784,))\n",
        "hidden1 = keras.layers.Dense(300,activation=keras.layers.LeakyReLU(),kernel_initializer=keras.initializers.glorot_normal(seed=42))(inp1)\n",
        "hidden2 = keras.layers.Dense(200, activation=keras.layers.LeakyReLU(),kernel_initializer=keras.initializers.glorot_normal(seed=42))(hidden1)\n",
        "hidden3 = keras.layers.Dense(100, activation=keras.layers.LeakyReLU(),kernel_initializer=keras.initializers.glorot_normal(seed=42))(hidden2)  \n",
        "out2=keras.layers.Dense(10, activation='softmax')(hidden3)\n",
        "model_fapi_3 = keras.models.Model(inputs=inp1, outputs=out2)"
      ],
      "execution_count": 0,
      "outputs": []
    },
    {
      "cell_type": "code",
      "metadata": {
        "id": "qXHzE44SxjvP",
        "colab_type": "code",
        "outputId": "4c9ade14-73ef-48b2-a8db-b3af8560a0a4",
        "colab": {
          "base_uri": "https://localhost:8080/",
          "height": 319
        }
      },
      "source": [
        "model_fapi_3.summary()"
      ],
      "execution_count": 14,
      "outputs": [
        {
          "output_type": "stream",
          "text": [
            "Model: \"model_1\"\n",
            "_________________________________________________________________\n",
            "Layer (type)                 Output Shape              Param #   \n",
            "=================================================================\n",
            "input_2 (InputLayer)         [(None, 784)]             0         \n",
            "_________________________________________________________________\n",
            "dense_4 (Dense)              (None, 300)               235500    \n",
            "_________________________________________________________________\n",
            "dense_5 (Dense)              (None, 200)               60200     \n",
            "_________________________________________________________________\n",
            "dense_6 (Dense)              (None, 100)               20100     \n",
            "_________________________________________________________________\n",
            "dense_7 (Dense)              (None, 10)                1010      \n",
            "=================================================================\n",
            "Total params: 316,810\n",
            "Trainable params: 316,810\n",
            "Non-trainable params: 0\n",
            "_________________________________________________________________\n"
          ],
          "name": "stdout"
        }
      ]
    },
    {
      "cell_type": "code",
      "metadata": {
        "id": "mRuiJFS_hUfT",
        "colab_type": "code",
        "colab": {}
      },
      "source": [
        "model_fapi_3.compile(optimizer='sgd',\n",
        "loss='categorical_crossentropy',\n",
        "metrics=['accuracy'])"
      ],
      "execution_count": 0,
      "outputs": []
    },
    {
      "cell_type": "code",
      "metadata": {
        "id": "PuEtLX1Jznk6",
        "colab_type": "code",
        "outputId": "2682d39d-c120-4e88-b7ec-0a95dbf01c50",
        "colab": {
          "base_uri": "https://localhost:8080/",
          "height": 370
        }
      },
      "source": [
        "model_fapi_3.fit(train_images, train_labels, epochs=10, batch_size=512,validation_data=(test_images,test_labels))"
      ],
      "execution_count": 16,
      "outputs": [
        {
          "output_type": "stream",
          "text": [
            "Epoch 1/10\n",
            "118/118 [==============================] - 1s 4ms/step - loss: 1.8988 - accuracy: 0.5100 - val_loss: 1.4247 - val_accuracy: 0.7473\n",
            "Epoch 2/10\n",
            "118/118 [==============================] - 0s 4ms/step - loss: 1.0879 - accuracy: 0.7796 - val_loss: 0.7897 - val_accuracy: 0.8237\n",
            "Epoch 3/10\n",
            "118/118 [==============================] - 0s 4ms/step - loss: 0.6934 - accuracy: 0.8310 - val_loss: 0.5695 - val_accuracy: 0.8566\n",
            "Epoch 4/10\n",
            "118/118 [==============================] - 0s 4ms/step - loss: 0.5422 - accuracy: 0.8575 - val_loss: 0.4702 - val_accuracy: 0.8756\n",
            "Epoch 5/10\n",
            "118/118 [==============================] - 0s 4ms/step - loss: 0.4656 - accuracy: 0.8738 - val_loss: 0.4158 - val_accuracy: 0.8890\n",
            "Epoch 6/10\n",
            "118/118 [==============================] - 0s 4ms/step - loss: 0.4197 - accuracy: 0.8843 - val_loss: 0.3820 - val_accuracy: 0.8954\n",
            "Epoch 7/10\n",
            "118/118 [==============================] - 0s 4ms/step - loss: 0.3895 - accuracy: 0.8910 - val_loss: 0.3592 - val_accuracy: 0.8997\n",
            "Epoch 8/10\n",
            "118/118 [==============================] - 0s 4ms/step - loss: 0.3677 - accuracy: 0.8959 - val_loss: 0.3401 - val_accuracy: 0.9054\n",
            "Epoch 9/10\n",
            "118/118 [==============================] - 0s 4ms/step - loss: 0.3511 - accuracy: 0.9001 - val_loss: 0.3273 - val_accuracy: 0.9087\n",
            "Epoch 10/10\n",
            "118/118 [==============================] - 0s 4ms/step - loss: 0.3377 - accuracy: 0.9039 - val_loss: 0.3156 - val_accuracy: 0.9103\n"
          ],
          "name": "stdout"
        },
        {
          "output_type": "execute_result",
          "data": {
            "text/plain": [
              "<tensorflow.python.keras.callbacks.History at 0x7fe4503a95c0>"
            ]
          },
          "metadata": {
            "tags": []
          },
          "execution_count": 16
        }
      ]
    },
    {
      "cell_type": "code",
      "metadata": {
        "id": "CfV_A0j0i1Fs",
        "colab_type": "code",
        "colab": {}
      },
      "source": [
        "inp1 = keras.layers.Input(shape=(784,))\n",
        "hidden1 = keras.layers.Dense(300,activation='relu',kernel_initializer='lecun_normal')(inp1)\n",
        "hidden2 = keras.layers.Dense(200, activation='relu',kernel_initializer='lecun_normal')(hidden1)\n",
        "hidden3 = keras.layers.Dense(100, activation='relu',kernel_initializer='lecun_normal')(hidden2)\n",
        "out2=keras.layers.Dense(10, activation='softmax')(hidden3)\n",
        "model_fapi_1 = keras.models.Model(inputs=inp1, outputs=out2)"
      ],
      "execution_count": 0,
      "outputs": []
    },
    {
      "cell_type": "code",
      "metadata": {
        "id": "UwSECLTkXJnn",
        "colab_type": "code",
        "colab": {
          "base_uri": "https://localhost:8080/",
          "height": 34
        },
        "outputId": "0ed5e631-c5e2-4340-efa8-473d3f4350b0"
      },
      "source": [
        "keras.layers.Dense(100,activation='relu',kernel_initializer=keras.initializers.lecun_normal())"
      ],
      "execution_count": 19,
      "outputs": [
        {
          "output_type": "execute_result",
          "data": {
            "text/plain": [
              "<tensorflow.python.keras.layers.core.Dense at 0x7fe4500a02e8>"
            ]
          },
          "metadata": {
            "tags": []
          },
          "execution_count": 19
        }
      ]
    },
    {
      "cell_type": "code",
      "metadata": {
        "id": "_b4h5OmakGPa",
        "colab_type": "code",
        "colab": {}
      },
      "source": [
        "model_fapi_1.compile(optimizer='sgd',\n",
        "loss='categorical_crossentropy',\n",
        "metrics=['accuracy'])"
      ],
      "execution_count": 0,
      "outputs": []
    },
    {
      "cell_type": "code",
      "metadata": {
        "id": "pbmvDnd_kgl7",
        "colab_type": "code",
        "outputId": "4f17ed2b-efd4-4aec-e21a-3d7dc7d42013",
        "colab": {
          "base_uri": "https://localhost:8080/",
          "height": 370
        }
      },
      "source": [
        "model_fapi_1.fit(train_images, train_labels, epochs=10, batch_size=512)"
      ],
      "execution_count": 21,
      "outputs": [
        {
          "output_type": "stream",
          "text": [
            "Epoch 1/10\n",
            "118/118 [==============================] - 0s 3ms/step - loss: 2.0912 - accuracy: 0.4308\n",
            "Epoch 2/10\n",
            "118/118 [==============================] - 0s 3ms/step - loss: 1.4737 - accuracy: 0.6933\n",
            "Epoch 3/10\n",
            "118/118 [==============================] - 0s 3ms/step - loss: 0.9063 - accuracy: 0.7986\n",
            "Epoch 4/10\n",
            "118/118 [==============================] - 0s 3ms/step - loss: 0.6475 - accuracy: 0.8450\n",
            "Epoch 5/10\n",
            "118/118 [==============================] - 0s 3ms/step - loss: 0.5257 - accuracy: 0.8643\n",
            "Epoch 6/10\n",
            "118/118 [==============================] - 0s 3ms/step - loss: 0.4594 - accuracy: 0.8771\n",
            "Epoch 7/10\n",
            "118/118 [==============================] - 0s 3ms/step - loss: 0.4183 - accuracy: 0.8853\n",
            "Epoch 8/10\n",
            "118/118 [==============================] - 0s 3ms/step - loss: 0.3900 - accuracy: 0.8916\n",
            "Epoch 9/10\n",
            "118/118 [==============================] - 0s 3ms/step - loss: 0.3689 - accuracy: 0.8967\n",
            "Epoch 10/10\n",
            "118/118 [==============================] - 0s 3ms/step - loss: 0.3524 - accuracy: 0.9001\n"
          ],
          "name": "stdout"
        },
        {
          "output_type": "execute_result",
          "data": {
            "text/plain": [
              "<tensorflow.python.keras.callbacks.History at 0x7fe450078240>"
            ]
          },
          "metadata": {
            "tags": []
          },
          "execution_count": 21
        }
      ]
    },
    {
      "cell_type": "code",
      "metadata": {
        "id": "O40QiyS6lxUR",
        "colab_type": "code",
        "colab": {}
      },
      "source": [
        "inp2 = keras.layers.Input(shape=(784,))\n",
        "hidden1 = keras.layers.Dense(300,activation='relu',kernel_initializer='he_uniform')(inp2)\n",
        "hidden2 = keras.layers.Dense(200, activation='relu',kernel_initializer='he_uniform')(hidden1)\n",
        "hidden3 = keras.layers.Dense(100, activation='relu',kernel_initializer=\"glorot_normal\")(hidden2)\n",
        "out3=keras.layers.Dense(10, activation='softmax')(hidden3)\n",
        "model_fapi_2 = keras.models.Model(inputs=inp2, outputs=out3)"
      ],
      "execution_count": 0,
      "outputs": []
    },
    {
      "cell_type": "code",
      "metadata": {
        "id": "0su5_68vmRQ3",
        "colab_type": "code",
        "colab": {}
      },
      "source": [
        "model_fapi_2.compile(optimizer='sgd',\n",
        "loss='categorical_crossentropy',\n",
        "metrics=['accuracy'])"
      ],
      "execution_count": 0,
      "outputs": []
    },
    {
      "cell_type": "code",
      "metadata": {
        "id": "f5KLiqAGmFGo",
        "colab_type": "code",
        "outputId": "955e163d-48ef-4fb1-ddc3-da2bde61e697",
        "colab": {
          "base_uri": "https://localhost:8080/",
          "height": 407
        }
      },
      "source": [
        "model_fapi_2.fit(train_images, train_labels, epochs=10, batch_size=512)"
      ],
      "execution_count": 0,
      "outputs": [
        {
          "output_type": "stream",
          "text": [
            "Train on 60000 samples\n",
            "Epoch 1/10\n",
            "60000/60000 [==============================] - 1s 12us/sample - loss: 1.9137 - accuracy: 0.4518\n",
            "Epoch 2/10\n",
            "60000/60000 [==============================] - 1s 9us/sample - loss: 1.0868 - accuracy: 0.7787\n",
            "Epoch 3/10\n",
            "60000/60000 [==============================] - 1s 9us/sample - loss: 0.6679 - accuracy: 0.8389\n",
            "Epoch 4/10\n",
            "60000/60000 [==============================] - 0s 8us/sample - loss: 0.5151 - accuracy: 0.8659\n",
            "Epoch 5/10\n",
            "60000/60000 [==============================] - 0s 8us/sample - loss: 0.4414 - accuracy: 0.8804\n",
            "Epoch 6/10\n",
            "60000/60000 [==============================] - 1s 9us/sample - loss: 0.3975 - accuracy: 0.8897\n",
            "Epoch 7/10\n",
            "60000/60000 [==============================] - 1s 9us/sample - loss: 0.3676 - accuracy: 0.8968\n",
            "Epoch 8/10\n",
            "60000/60000 [==============================] - 0s 8us/sample - loss: 0.3454 - accuracy: 0.9021\n",
            "Epoch 9/10\n",
            "60000/60000 [==============================] - 1s 8us/sample - loss: 0.3279 - accuracy: 0.9069\n",
            "Epoch 10/10\n",
            "60000/60000 [==============================] - 1s 8us/sample - loss: 0.3136 - accuracy: 0.9109\n"
          ],
          "name": "stdout"
        },
        {
          "output_type": "execute_result",
          "data": {
            "text/plain": [
              "<tensorflow.python.keras.callbacks.History at 0x7fdc780490b8>"
            ]
          },
          "metadata": {
            "tags": []
          },
          "execution_count": 20
        }
      ]
    },
    {
      "cell_type": "code",
      "metadata": {
        "id": "F3dJOEZgmqIN",
        "colab_type": "code",
        "colab": {}
      },
      "source": [
        "inp3 = keras.layers.Input(shape=(784,))\n",
        "hidden1 = keras.layers.Dense(300,activation='elu',kernel_initializer='he_uniform')(inp3)\n",
        "hidden2 = keras.layers.Dense(200, activation='elu',kernel_initializer='he_uniform')(hidden1)\n",
        "hidden3 = keras.layers.Dense(100, activation='elu',kernel_initializer='he_uniform')(hidden2)\n",
        "out3=keras.layers.Dense(10, activation='softmax')(hidden3)\n",
        "model_fapi_3 = keras.models.Model(inputs=inp3, outputs=out3)"
      ],
      "execution_count": 0,
      "outputs": []
    },
    {
      "cell_type": "code",
      "metadata": {
        "id": "t7mO120cnk38",
        "colab_type": "code",
        "colab": {}
      },
      "source": [
        "model_fapi_3.compile(optimizer='sgd',\n",
        "loss='categorical_crossentropy',\n",
        "metrics=['accuracy'])"
      ],
      "execution_count": 0,
      "outputs": []
    },
    {
      "cell_type": "code",
      "metadata": {
        "id": "OaDAegUqoDdu",
        "colab_type": "code",
        "outputId": "bfc3a035-8957-4b66-b84e-16df13fd13e3",
        "colab": {
          "base_uri": "https://localhost:8080/",
          "height": 370
        }
      },
      "source": [
        "model_fapi_3.fit(train_images, train_labels, epochs=10, batch_size=512)"
      ],
      "execution_count": 25,
      "outputs": [
        {
          "output_type": "stream",
          "text": [
            "Epoch 1/10\n",
            "118/118 [==============================] - 0s 3ms/step - loss: 0.3266 - accuracy: 0.9062\n",
            "Epoch 2/10\n",
            "118/118 [==============================] - 0s 3ms/step - loss: 0.3170 - accuracy: 0.9091\n",
            "Epoch 3/10\n",
            "118/118 [==============================] - 0s 3ms/step - loss: 0.3085 - accuracy: 0.9117\n",
            "Epoch 4/10\n",
            "118/118 [==============================] - 0s 3ms/step - loss: 0.3009 - accuracy: 0.9129\n",
            "Epoch 5/10\n",
            "118/118 [==============================] - 0s 3ms/step - loss: 0.2941 - accuracy: 0.9152\n",
            "Epoch 6/10\n",
            "118/118 [==============================] - 0s 3ms/step - loss: 0.2879 - accuracy: 0.9172\n",
            "Epoch 7/10\n",
            "118/118 [==============================] - 0s 3ms/step - loss: 0.2820 - accuracy: 0.9186\n",
            "Epoch 8/10\n",
            "118/118 [==============================] - 0s 3ms/step - loss: 0.2767 - accuracy: 0.9201\n",
            "Epoch 9/10\n",
            "118/118 [==============================] - 0s 3ms/step - loss: 0.2716 - accuracy: 0.9215\n",
            "Epoch 10/10\n",
            "118/118 [==============================] - 0s 3ms/step - loss: 0.2668 - accuracy: 0.9230\n"
          ],
          "name": "stdout"
        },
        {
          "output_type": "execute_result",
          "data": {
            "text/plain": [
              "<tensorflow.python.keras.callbacks.History at 0x7fe4060b8080>"
            ]
          },
          "metadata": {
            "tags": []
          },
          "execution_count": 25
        }
      ]
    },
    {
      "cell_type": "code",
      "metadata": {
        "id": "vDy0OFNhoXBK",
        "colab_type": "code",
        "outputId": "9ed2e934-dd21-4c72-82e5-75c2470fdd42",
        "colab": {
          "base_uri": "https://localhost:8080/",
          "height": 370
        }
      },
      "source": [
        "inp4 = keras.layers.Input(shape=(784,))\n",
        "hidden1 = keras.layers.Dense(300,activation='LeakyReLU')(inp4)\n",
        "hidden2 = keras.layers.Dense(200, activation='LeakyReLU')(hidden1)\n",
        "hidden3 = keras.layers.Dense(100, activation='LeakyReLU')(hidden2)\n",
        "out4=keras.layers.Dense(10, activation='softmax')(hidden3)\n",
        "model_fapi_4 = keras.models.Model(inputs=inp4, outputs=out4)"
      ],
      "execution_count": 26,
      "outputs": [
        {
          "output_type": "error",
          "ename": "ValueError",
          "evalue": "ignored",
          "traceback": [
            "\u001b[0;31m---------------------------------------------------------------------------\u001b[0m",
            "\u001b[0;31mValueError\u001b[0m                                Traceback (most recent call last)",
            "\u001b[0;32m<ipython-input-26-bbc02824e735>\u001b[0m in \u001b[0;36m<module>\u001b[0;34m()\u001b[0m\n\u001b[1;32m      1\u001b[0m \u001b[0minp4\u001b[0m \u001b[0;34m=\u001b[0m \u001b[0mkeras\u001b[0m\u001b[0;34m.\u001b[0m\u001b[0mlayers\u001b[0m\u001b[0;34m.\u001b[0m\u001b[0mInput\u001b[0m\u001b[0;34m(\u001b[0m\u001b[0mshape\u001b[0m\u001b[0;34m=\u001b[0m\u001b[0;34m(\u001b[0m\u001b[0;36m784\u001b[0m\u001b[0;34m,\u001b[0m\u001b[0;34m)\u001b[0m\u001b[0;34m)\u001b[0m\u001b[0;34m\u001b[0m\u001b[0;34m\u001b[0m\u001b[0m\n\u001b[0;32m----> 2\u001b[0;31m \u001b[0mhidden1\u001b[0m \u001b[0;34m=\u001b[0m \u001b[0mkeras\u001b[0m\u001b[0;34m.\u001b[0m\u001b[0mlayers\u001b[0m\u001b[0;34m.\u001b[0m\u001b[0mDense\u001b[0m\u001b[0;34m(\u001b[0m\u001b[0;36m300\u001b[0m\u001b[0;34m,\u001b[0m\u001b[0mactivation\u001b[0m\u001b[0;34m=\u001b[0m\u001b[0;34m'LeakyReLU'\u001b[0m\u001b[0;34m)\u001b[0m\u001b[0;34m(\u001b[0m\u001b[0minp4\u001b[0m\u001b[0;34m)\u001b[0m\u001b[0;34m\u001b[0m\u001b[0;34m\u001b[0m\u001b[0m\n\u001b[0m\u001b[1;32m      3\u001b[0m \u001b[0mhidden2\u001b[0m \u001b[0;34m=\u001b[0m \u001b[0mkeras\u001b[0m\u001b[0;34m.\u001b[0m\u001b[0mlayers\u001b[0m\u001b[0;34m.\u001b[0m\u001b[0mDense\u001b[0m\u001b[0;34m(\u001b[0m\u001b[0;36m200\u001b[0m\u001b[0;34m,\u001b[0m \u001b[0mactivation\u001b[0m\u001b[0;34m=\u001b[0m\u001b[0;34m'LeakyReLU'\u001b[0m\u001b[0;34m)\u001b[0m\u001b[0;34m(\u001b[0m\u001b[0mhidden1\u001b[0m\u001b[0;34m)\u001b[0m\u001b[0;34m\u001b[0m\u001b[0;34m\u001b[0m\u001b[0m\n\u001b[1;32m      4\u001b[0m \u001b[0mhidden3\u001b[0m \u001b[0;34m=\u001b[0m \u001b[0mkeras\u001b[0m\u001b[0;34m.\u001b[0m\u001b[0mlayers\u001b[0m\u001b[0;34m.\u001b[0m\u001b[0mDense\u001b[0m\u001b[0;34m(\u001b[0m\u001b[0;36m100\u001b[0m\u001b[0;34m,\u001b[0m \u001b[0mactivation\u001b[0m\u001b[0;34m=\u001b[0m\u001b[0;34m'LeakyReLU'\u001b[0m\u001b[0;34m)\u001b[0m\u001b[0;34m(\u001b[0m\u001b[0mhidden2\u001b[0m\u001b[0;34m)\u001b[0m\u001b[0;34m\u001b[0m\u001b[0;34m\u001b[0m\u001b[0m\n\u001b[1;32m      5\u001b[0m \u001b[0mout4\u001b[0m\u001b[0;34m=\u001b[0m\u001b[0mkeras\u001b[0m\u001b[0;34m.\u001b[0m\u001b[0mlayers\u001b[0m\u001b[0;34m.\u001b[0m\u001b[0mDense\u001b[0m\u001b[0;34m(\u001b[0m\u001b[0;36m10\u001b[0m\u001b[0;34m,\u001b[0m \u001b[0mactivation\u001b[0m\u001b[0;34m=\u001b[0m\u001b[0;34m'softmax'\u001b[0m\u001b[0;34m)\u001b[0m\u001b[0;34m(\u001b[0m\u001b[0mhidden3\u001b[0m\u001b[0;34m)\u001b[0m\u001b[0;34m\u001b[0m\u001b[0;34m\u001b[0m\u001b[0m\n",
            "\u001b[0;32m/usr/local/lib/python3.6/dist-packages/tensorflow/python/keras/layers/core.py\u001b[0m in \u001b[0;36m__init__\u001b[0;34m(self, units, activation, use_bias, kernel_initializer, bias_initializer, kernel_regularizer, bias_regularizer, activity_regularizer, kernel_constraint, bias_constraint, **kwargs)\u001b[0m\n\u001b[1;32m   1133\u001b[0m \u001b[0;34m\u001b[0m\u001b[0m\n\u001b[1;32m   1134\u001b[0m     \u001b[0mself\u001b[0m\u001b[0;34m.\u001b[0m\u001b[0munits\u001b[0m \u001b[0;34m=\u001b[0m \u001b[0mint\u001b[0m\u001b[0;34m(\u001b[0m\u001b[0munits\u001b[0m\u001b[0;34m)\u001b[0m \u001b[0;32mif\u001b[0m \u001b[0;32mnot\u001b[0m \u001b[0misinstance\u001b[0m\u001b[0;34m(\u001b[0m\u001b[0munits\u001b[0m\u001b[0;34m,\u001b[0m \u001b[0mint\u001b[0m\u001b[0;34m)\u001b[0m \u001b[0;32melse\u001b[0m \u001b[0munits\u001b[0m\u001b[0;34m\u001b[0m\u001b[0;34m\u001b[0m\u001b[0m\n\u001b[0;32m-> 1135\u001b[0;31m     \u001b[0mself\u001b[0m\u001b[0;34m.\u001b[0m\u001b[0mactivation\u001b[0m \u001b[0;34m=\u001b[0m \u001b[0mactivations\u001b[0m\u001b[0;34m.\u001b[0m\u001b[0mget\u001b[0m\u001b[0;34m(\u001b[0m\u001b[0mactivation\u001b[0m\u001b[0;34m)\u001b[0m\u001b[0;34m\u001b[0m\u001b[0;34m\u001b[0m\u001b[0m\n\u001b[0m\u001b[1;32m   1136\u001b[0m     \u001b[0mself\u001b[0m\u001b[0;34m.\u001b[0m\u001b[0muse_bias\u001b[0m \u001b[0;34m=\u001b[0m \u001b[0muse_bias\u001b[0m\u001b[0;34m\u001b[0m\u001b[0;34m\u001b[0m\u001b[0m\n\u001b[1;32m   1137\u001b[0m     \u001b[0mself\u001b[0m\u001b[0;34m.\u001b[0m\u001b[0mkernel_initializer\u001b[0m \u001b[0;34m=\u001b[0m \u001b[0minitializers\u001b[0m\u001b[0;34m.\u001b[0m\u001b[0mget\u001b[0m\u001b[0;34m(\u001b[0m\u001b[0mkernel_initializer\u001b[0m\u001b[0;34m)\u001b[0m\u001b[0;34m\u001b[0m\u001b[0;34m\u001b[0m\u001b[0m\n",
            "\u001b[0;32m/usr/local/lib/python3.6/dist-packages/tensorflow/python/keras/activations.py\u001b[0m in \u001b[0;36mget\u001b[0;34m(identifier)\u001b[0m\n\u001b[1;32m    458\u001b[0m   \u001b[0;32mif\u001b[0m \u001b[0misinstance\u001b[0m\u001b[0;34m(\u001b[0m\u001b[0midentifier\u001b[0m\u001b[0;34m,\u001b[0m \u001b[0msix\u001b[0m\u001b[0;34m.\u001b[0m\u001b[0mstring_types\u001b[0m\u001b[0;34m)\u001b[0m\u001b[0;34m:\u001b[0m\u001b[0;34m\u001b[0m\u001b[0;34m\u001b[0m\u001b[0m\n\u001b[1;32m    459\u001b[0m     \u001b[0midentifier\u001b[0m \u001b[0;34m=\u001b[0m \u001b[0mstr\u001b[0m\u001b[0;34m(\u001b[0m\u001b[0midentifier\u001b[0m\u001b[0;34m)\u001b[0m\u001b[0;34m\u001b[0m\u001b[0;34m\u001b[0m\u001b[0m\n\u001b[0;32m--> 460\u001b[0;31m     \u001b[0;32mreturn\u001b[0m \u001b[0mdeserialize\u001b[0m\u001b[0;34m(\u001b[0m\u001b[0midentifier\u001b[0m\u001b[0;34m)\u001b[0m\u001b[0;34m\u001b[0m\u001b[0;34m\u001b[0m\u001b[0m\n\u001b[0m\u001b[1;32m    461\u001b[0m   \u001b[0;32melif\u001b[0m \u001b[0mcallable\u001b[0m\u001b[0;34m(\u001b[0m\u001b[0midentifier\u001b[0m\u001b[0;34m)\u001b[0m\u001b[0;34m:\u001b[0m\u001b[0;34m\u001b[0m\u001b[0;34m\u001b[0m\u001b[0m\n\u001b[1;32m    462\u001b[0m     \u001b[0;32mreturn\u001b[0m \u001b[0midentifier\u001b[0m\u001b[0;34m\u001b[0m\u001b[0;34m\u001b[0m\u001b[0m\n",
            "\u001b[0;32m/usr/local/lib/python3.6/dist-packages/tensorflow/python/keras/activations.py\u001b[0m in \u001b[0;36mdeserialize\u001b[0;34m(name, custom_objects)\u001b[0m\n\u001b[1;32m    420\u001b[0m       \u001b[0mmodule_objects\u001b[0m\u001b[0;34m=\u001b[0m\u001b[0mglobals\u001b[0m\u001b[0;34m(\u001b[0m\u001b[0;34m)\u001b[0m\u001b[0;34m,\u001b[0m\u001b[0;34m\u001b[0m\u001b[0;34m\u001b[0m\u001b[0m\n\u001b[1;32m    421\u001b[0m       \u001b[0mcustom_objects\u001b[0m\u001b[0;34m=\u001b[0m\u001b[0mcustom_objects\u001b[0m\u001b[0;34m,\u001b[0m\u001b[0;34m\u001b[0m\u001b[0;34m\u001b[0m\u001b[0m\n\u001b[0;32m--> 422\u001b[0;31m       printable_module_name='activation function')\n\u001b[0m\u001b[1;32m    423\u001b[0m \u001b[0;34m\u001b[0m\u001b[0m\n\u001b[1;32m    424\u001b[0m \u001b[0;34m\u001b[0m\u001b[0m\n",
            "\u001b[0;32m/usr/local/lib/python3.6/dist-packages/tensorflow/python/keras/utils/generic_utils.py\u001b[0m in \u001b[0;36mdeserialize_keras_object\u001b[0;34m(identifier, module_objects, custom_objects, printable_module_name)\u001b[0m\n\u001b[1;32m    390\u001b[0m       \u001b[0mobj\u001b[0m \u001b[0;34m=\u001b[0m \u001b[0mmodule_objects\u001b[0m\u001b[0;34m.\u001b[0m\u001b[0mget\u001b[0m\u001b[0;34m(\u001b[0m\u001b[0mobject_name\u001b[0m\u001b[0;34m)\u001b[0m\u001b[0;34m\u001b[0m\u001b[0;34m\u001b[0m\u001b[0m\n\u001b[1;32m    391\u001b[0m       \u001b[0;32mif\u001b[0m \u001b[0mobj\u001b[0m \u001b[0;32mis\u001b[0m \u001b[0;32mNone\u001b[0m\u001b[0;34m:\u001b[0m\u001b[0;34m\u001b[0m\u001b[0;34m\u001b[0m\u001b[0m\n\u001b[0;32m--> 392\u001b[0;31m         \u001b[0;32mraise\u001b[0m \u001b[0mValueError\u001b[0m\u001b[0;34m(\u001b[0m\u001b[0;34m'Unknown '\u001b[0m \u001b[0;34m+\u001b[0m \u001b[0mprintable_module_name\u001b[0m \u001b[0;34m+\u001b[0m \u001b[0;34m':'\u001b[0m \u001b[0;34m+\u001b[0m \u001b[0mobject_name\u001b[0m\u001b[0;34m)\u001b[0m\u001b[0;34m\u001b[0m\u001b[0;34m\u001b[0m\u001b[0m\n\u001b[0m\u001b[1;32m    393\u001b[0m     \u001b[0;31m# Classes passed by name are instantiated with no args, functions are\u001b[0m\u001b[0;34m\u001b[0m\u001b[0;34m\u001b[0m\u001b[0;34m\u001b[0m\u001b[0m\n\u001b[1;32m    394\u001b[0m     \u001b[0;31m# returned as-is.\u001b[0m\u001b[0;34m\u001b[0m\u001b[0;34m\u001b[0m\u001b[0;34m\u001b[0m\u001b[0m\n",
            "\u001b[0;31mValueError\u001b[0m: Unknown activation function:LeakyReLU"
          ]
        }
      ]
    }
  ]
}